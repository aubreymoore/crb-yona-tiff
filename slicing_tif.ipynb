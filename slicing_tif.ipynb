{
  "nbformat": 4,
  "nbformat_minor": 0,
  "metadata": {
    "colab": {
      "provenance": [],
      "authorship_tag": "ABX9TyMENQ4FdRvXxitCxJopJq60",
      "include_colab_link": true
    },
    "kernelspec": {
      "name": "python3",
      "display_name": "Python 3"
    },
    "language_info": {
      "name": "python"
    }
  },
  "cells": [
    {
      "cell_type": "markdown",
      "metadata": {
        "id": "view-in-github",
        "colab_type": "text"
      },
      "source": [
        "<a href=\"https://colab.research.google.com/github/aubreymoore/crb-yona-tiff/blob/main/slicing_tif.ipynb\" target=\"_parent\"><img src=\"https://colab.research.google.com/assets/colab-badge.svg\" alt=\"Open In Colab\"/></a>"
      ]
    },
    {
      "cell_type": "code",
      "execution_count": 1,
      "metadata": {
        "id": "V2N1s77mYD0z"
      },
      "outputs": [],
      "source": [
        "import os, sys\n",
        "from osgeo import gdal"
      ]
    },
    {
      "cell_type": "code",
      "source": [
        "!git clone https://github.com/aubreymoore/crb-yona-tiff.git"
      ],
      "metadata": {
        "colab": {
          "base_uri": "https://localhost:8080/"
        },
        "id": "p5XZAc_1cXIH",
        "outputId": "5239ccd6-e739-46a5-f2c9-960a7d851fb3"
      },
      "execution_count": 2,
      "outputs": [
        {
          "output_type": "stream",
          "name": "stdout",
          "text": [
            "Cloning into 'crb-yona-tiff'...\n",
            "remote: Enumerating objects: 151, done.\u001b[K\n",
            "remote: Counting objects: 100% (121/121), done.\u001b[K\n",
            "remote: Compressing objects: 100% (115/115), done.\u001b[K\n",
            "remote: Total 151 (delta 63), reused 17 (delta 4), pack-reused 30\u001b[K\n",
            "Receiving objects: 100% (151/151), 1.06 GiB | 29.76 MiB/s, done.\n",
            "Resolving deltas: 100% (63/63), done.\n",
            "Updating files: 100% (32/32), done.\n"
          ]
        }
      ]
    },
    {
      "cell_type": "code",
      "source": [
        "!cat crb-yona-tiff/chunks/* > yona.tif"
      ],
      "metadata": {
        "id": "tVXj_YgPdKqk"
      },
      "execution_count": 6,
      "outputs": []
    },
    {
      "cell_type": "code",
      "source": [
        "!ls"
      ],
      "metadata": {
        "colab": {
          "base_uri": "https://localhost:8080/"
        },
        "id": "Np_gFT9teJut",
        "outputId": "a69294db-9aca-4723-fb9d-8748ec542074"
      },
      "execution_count": 7,
      "outputs": [
        {
          "output_type": "stream",
          "name": "stdout",
          "text": [
            "crb-yona-tiff  sample_data  yona.tif\n"
          ]
        }
      ]
    },
    {
      "cell_type": "code",
      "source": [
        "rds = gdal.Open('yona.tif')"
      ],
      "metadata": {
        "id": "_Zu2nBbzeVhE"
      },
      "execution_count": 9,
      "outputs": []
    },
    {
      "cell_type": "code",
      "source": [
        "print(f'width = {rds.RasterXSize}, height = {rds.RasterYSize}')"
      ],
      "metadata": {
        "colab": {
          "base_uri": "https://localhost:8080/"
        },
        "id": "x9-MWVxbhCZZ",
        "outputId": "449826b7-a02e-4f98-f213-69f29c06b3e6"
      },
      "execution_count": 12,
      "outputs": [
        {
          "output_type": "stream",
          "name": "stdout",
          "text": [
            "width = 32731, height = 23585\n"
          ]
        }
      ]
    },
    {
      "cell_type": "code",
      "source": [
        "rds.GetGeoTransform()"
      ],
      "metadata": {
        "colab": {
          "base_uri": "https://localhost:8080/"
        },
        "id": "AVzYkg3aiqMm",
        "outputId": "f3576bcd-8ced-4bd8-81a4-3ebeb0177d72"
      },
      "execution_count": 13,
      "outputs": [
        {
          "output_type": "execute_result",
          "data": {
            "text/plain": [
              "(259821.30138992154,\n",
              " 0.014080873475957724,\n",
              " 0.0,\n",
              " 1484150.4414387643,\n",
              " 0.0,\n",
              " -0.014080873475957724)"
            ]
          },
          "metadata": {},
          "execution_count": 13
        }
      ]
    }
  ]
}