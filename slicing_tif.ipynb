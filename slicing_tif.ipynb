{
  "nbformat": 4,
  "nbformat_minor": 0,
  "metadata": {
    "colab": {
      "provenance": [],
      "authorship_tag": "ABX9TyPzGv1dHE8kPKZQkFSid4s1",
      "include_colab_link": true
    },
    "kernelspec": {
      "name": "python3",
      "display_name": "Python 3"
    },
    "language_info": {
      "name": "python"
    }
  },
  "cells": [
    {
      "cell_type": "markdown",
      "metadata": {
        "id": "view-in-github",
        "colab_type": "text"
      },
      "source": [
        "<a href=\"https://colab.research.google.com/github/aubreymoore/crb-yona-tiff/blob/main/slicing_tif.ipynb\" target=\"_parent\"><img src=\"https://colab.research.google.com/assets/colab-badge.svg\" alt=\"Open In Colab\"/></a>"
      ]
    },
    {
      "cell_type": "code",
      "execution_count": 27,
      "metadata": {
        "id": "V2N1s77mYD0z"
      },
      "outputs": [],
      "source": [
        "import os\n",
        "from osgeo import gdal"
      ]
    },
    {
      "cell_type": "code",
      "source": [
        "def get_data():\n",
        "  if not os.path.exists('crb-yona-tiff'):\n",
        "    print('cloning GitHub repo')\n",
        "    os.system('git clone https://github.com/aubreymoore/crb-yona-tiff.git')\n",
        "  if not os.path.exists('yona=tif'):\n",
        "    print('assembling geoTIFF')\n",
        "    os.system('cat crb-yona-tiff/chunks/* > yona.tif')\n",
        "  print('loading data')\n",
        "  rds = gdal.Open('yona.tif')\n",
        "  return rds"
      ],
      "metadata": {
        "id": "XqYdSjvveST_"
      },
      "execution_count": 34,
      "outputs": []
    },
    {
      "cell_type": "code",
      "source": [
        "def get_metadata(rds):\n",
        "  width = rds.RasterXSize\n",
        "  height = rds.RasterYSize\n",
        "  geotransform = rds.GetGeoTransform()\n",
        "  return width, height, geotransform"
      ],
      "metadata": {
        "id": "IICCPgxxEYDJ"
      },
      "execution_count": 29,
      "outputs": []
    },
    {
      "cell_type": "code",
      "source": [
        "def get_geo_transform(rds):\n",
        "  ulcorner_x, pixel_width, row_rotation, ulcorner_y, col_rotation, pixel_height = rds.GetGeoTransform()\n",
        "  print(f'gt[0] x-coordinate of the upper-left corner of the upper-left pixel:             {gt[0]} meters')\n",
        "  print(f'gt[1] w-e pixel resolution / pixel width:                                        {gt[1]} meters')\n",
        "  print(f'gt[2] row rotation (typically zero):                                             {gt[2]}')\n",
        "  print(f'gt[3] y-coordinate of the upper-left corner of the upper-left pixel:             {gt[3]} meters')\n",
        "  print(f'gt[4] column rotation (typically zero):                                          {gt[4]}')\n",
        "  print(f'gt[5] n-s pixel resolution / pixel height (negative value for a north-up image): {gt[5]} meters')\n",
        "  return ulcorner_x, pixel_width, row_rotation, ulcorner_y, col_rotation, pixel_height\n",
        "\n",
        "get_geo_transform(rds)"
      ],
      "metadata": {
        "colab": {
          "base_uri": "https://localhost:8080/"
        },
        "id": "GNUL36iHofPs",
        "outputId": "0f334fb9-0cea-4221-b52b-316cd4380581"
      },
      "execution_count": 30,
      "outputs": [
        {
          "output_type": "stream",
          "name": "stdout",
          "text": [
            "gt[0] x-coordinate of the upper-left corner of the upper-left pixel:             259821.30138992154 meters\n",
            "gt[1] w-e pixel resolution / pixel width:                                        0.014080873475957724 meters\n",
            "gt[2] row rotation (typically zero):                                             0.0\n",
            "gt[3] y-coordinate of the upper-left corner of the upper-left pixel:             1484150.4414387643 meters\n",
            "gt[4] column rotation (typically zero):                                          0.0\n",
            "gt[5] n-s pixel resolution / pixel height (negative value for a north-up image): -0.014080873475957724 meters\n"
          ]
        },
        {
          "output_type": "execute_result",
          "data": {
            "text/plain": [
              "(259821.30138992154,\n",
              " 0.014080873475957724,\n",
              " 0.0,\n",
              " 1484150.4414387643,\n",
              " 0.0,\n",
              " -0.014080873475957724)"
            ]
          },
          "metadata": {},
          "execution_count": 30
        }
      ]
    },
    {
      "cell_type": "code",
      "source": [
        "def pix2geo(pix_x, pix_y):\n",
        "  geo_x = ulcorner_x + pix_x * pixel_width\n",
        "  geo_y = ulcorner_y + pix_y * pixel_height\n",
        "  return geo_x, geo_y\n",
        "\n",
        "def geo2pix(geo_x, geo_y):\n",
        "  pix_x = int((geo_x - ulcorner_x) / pixel_width)\n",
        "  pix_y = int((geo_y - ulcorner_y) / pixel_height)\n",
        "  return pix_x, pix_y"
      ],
      "metadata": {
        "id": "DRyiBjpSsPzZ"
      },
      "execution_count": 31,
      "outputs": []
    },
    {
      "cell_type": "code",
      "source": [
        "# MAIN\n",
        "\n",
        "rds = get_data()\n",
        "width, height, geotransform = get_metadata(rds)\n",
        "\n",
        "# unpack the geotransform\n",
        "ulcorner_x, pixel_width, row_rotation, ulcorner_y, col_rotation, pixel_height = geotransform\n",
        "\n",
        "\n"
      ],
      "metadata": {
        "colab": {
          "base_uri": "https://localhost:8080/"
        },
        "id": "k4kkBfvgFmtD",
        "outputId": "a5444aad-f77f-407e-9664-505a0d6a7944"
      },
      "execution_count": 32,
      "outputs": [
        {
          "output_type": "stream",
          "name": "stdout",
          "text": [
            "cloning GitHub repo\n",
            "assembling geoTIFF\n",
            "loading data\n"
          ]
        }
      ]
    },
    {
      "cell_type": "code",
      "source": [
        "print(height, width)\n",
        "xc = width // 2\n",
        "yc = height // 2\n",
        "x1 = xc - 499\n",
        "x2 = xc + 500\n",
        "y1 = yc - 499\n",
        "y2 = yc + 500\n",
        "\n"
      ],
      "metadata": {
        "colab": {
          "base_uri": "https://localhost:8080/"
        },
        "id": "m41KT4mYK5Zk",
        "outputId": "766a5a97-fa37-45e8-b798-1039eaee58c2"
      },
      "execution_count": 42,
      "outputs": [
        {
          "output_type": "stream",
          "name": "stdout",
          "text": [
            "23585 32731\n"
          ]
        }
      ]
    },
    {
      "cell_type": "code",
      "source": [
        "# window = (offset_x, offset_y, size_x, size_y)\n",
        "# gdal.Translate('output_crop_raster.tif', 'input_raster.tif', srcWin = window)\n",
        "\n",
        "window = (xc-500, yc-500, 1000, 1000)\n",
        "gdal.Translate('center.tif', 'yona.tif', srcWin = window)\n"
      ],
      "metadata": {
        "colab": {
          "base_uri": "https://localhost:8080/"
        },
        "id": "5GP9gYSRQhL4",
        "outputId": "8f3a2526-b59e-43c7-9967-538413bea0f1"
      },
      "execution_count": 44,
      "outputs": [
        {
          "output_type": "execute_result",
          "data": {
            "text/plain": [
              "<osgeo.gdal.Dataset; proxy of <Swig Object of type 'GDALDatasetShadow *' at 0x7f34c7099080> >"
            ]
          },
          "metadata": {},
          "execution_count": 44
        }
      ]
    },
    {
      "cell_type": "code",
      "source": [
        "!ls"
      ],
      "metadata": {
        "colab": {
          "base_uri": "https://localhost:8080/"
        },
        "id": "arsskVrNSFnY",
        "outputId": "3ce5cb91-34e3-45a5-db34-e4c1f977d610"
      },
      "execution_count": 45,
      "outputs": [
        {
          "output_type": "stream",
          "name": "stdout",
          "text": [
            "center.tif  crb-yona-tiff  sample_data\tyona.tif\n"
          ]
        }
      ]
    }
  ]
}